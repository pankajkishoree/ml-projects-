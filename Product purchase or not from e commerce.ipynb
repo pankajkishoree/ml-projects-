{
 "cells": [
  {
   "cell_type": "markdown",
   "id": "a50c2339-7393-4a97-8f4f-746315aa5f3d",
   "metadata": {},
   "source": [
    "Problem Statement:-\n",
    "In an e- commerce company , the management wants to predict whether a customer will purchase a high value product based on their age, time spent on the website , and whether they have added items to their cart . The goal is to optimize marketing strategies by targeting potential customers more effectively, thereby increasing sales and revenue."
   ]
  },
  {
   "cell_type": "code",
   "execution_count": 23,
   "id": "a67b1dfa-0468-49c0-8834-518e00476eb5",
   "metadata": {},
   "outputs": [
    {
     "name": "stdout",
     "output_type": "stream",
     "text": [
      "Model Score: 100.00%\n",
      "Accuracy: 1.00\n",
      "Classification Report:\n",
      "               precision    recall  f1-score   support\n",
      "\n",
      "           1       1.00      1.00      1.00         1\n",
      "\n",
      "    accuracy                           1.00         1\n",
      "   macro avg       1.00      1.00      1.00         1\n",
      "weighted avg       1.00      1.00      1.00         1\n",
      "\n"
     ]
    },
    {
     "name": "stdin",
     "output_type": "stream",
     "text": [
      "Enter customer Age :  30\n",
      "Enter time spent on website : 40\n",
      "Enter 1 if added to cart, else Enter 0:  0\n"
     ]
    },
    {
     "name": "stdout",
     "output_type": "stream",
     "text": [
      "The customer is likely to purchase \n"
     ]
    }
   ],
   "source": [
    "import numpy as np\n",
    "from sklearn.model_selection import train_test_split\n",
    "from sklearn.linear_model import LogisticRegression\n",
    "\n",
    "\n",
    "# [Age, Time spent on website, Added in cart or not]\n",
    "X= np.array([[25,30,0], [30,40,1], [20, 35,0], [35,45,1],[20,50,1]])\n",
    "Y= np.array([0,1,0,1,1])\n",
    "\n",
    "#split into training and testing sets.\n",
    "X_train,X_test, Y_train, Y_test= train_test_split(X,Y,test_size= 0.2, random_state= 42)\n",
    "\n",
    "# Initialize the model\n",
    "model = LogisticRegression()\n",
    "\n",
    "# Train the model\n",
    "model.fit(X_train, Y_train)\n",
    "\n",
    "\n",
    "print(f\"Model Score: {model.score(X_test, Y_test) * 100:.2f}%\")\n",
    "\n",
    "from sklearn.metrics import accuracy_score, classification_report\n",
    "\n",
    "# Make predictions on the test set\n",
    "Y_pred = model.predict(X_test)\n",
    "\n",
    "# Evaluate the model\n",
    "print(f\"Accuracy: {accuracy_score(Y_test, Y_pred):.2f}\")\n",
    "print(\"Classification Report:\\n\", classification_report(Y_test, Y_pred))\n",
    "\n",
    "\n",
    "# Taking input from user\n",
    "user_age= float(input(\"Enter customer Age : \"))\n",
    "user_time_spent= float(input(\"Enter time spent on website :\"))\n",
    "user_added_to_cart= int(input(\"Enter 1 if added to cart, else Enter 0: \"))\n",
    "user_data= np.array([[user_age,user_time_spent,user_added_to_cart]])\n",
    "prediction= model.predict(user_data)\n",
    "if prediction[0] == 1:\n",
    "    print(\"The customer is likely to purchase \")\n",
    "else:\n",
    "    print(\"The customer is unlikely to purchase\")\n"
   ]
  }
 ],
 "metadata": {
  "kernelspec": {
   "display_name": "Python 3 (ipykernel)",
   "language": "python",
   "name": "python3"
  },
  "language_info": {
   "codemirror_mode": {
    "name": "ipython",
    "version": 3
   },
   "file_extension": ".py",
   "mimetype": "text/x-python",
   "name": "python",
   "nbconvert_exporter": "python",
   "pygments_lexer": "ipython3",
   "version": "3.12.3"
  },
  "widgets": {
   "application/vnd.jupyter.widget-state+json": {
    "state": {},
    "version_major": 2,
    "version_minor": 0
   }
  }
 },
 "nbformat": 4,
 "nbformat_minor": 5
}
